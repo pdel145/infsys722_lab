{
 "cells": [
  {
   "cell_type": "markdown",
   "id": "6ff03763",
   "metadata": {},
   "source": [
    "## INFSYS 722 - Iteration 4\n",
    "ID: 168395378\n",
    "<br/>\n",
    "Author: Paolo Gabriel Averia Delos Reyes"
   ]
  },
  {
   "cell_type": "markdown",
   "id": "634cefaa",
   "metadata": {},
   "source": [
    "### 01 - Business Understanding\n",
    "\n",
    "This section, we describe the business goals and objectives.\n",
    "\n",
    "Our goal is o study and analyze global water treatment and water consumption. From there, compare the Philippines versus top countries and identify where the Philippines can improve on."
   ]
  },
  {
   "cell_type": "markdown",
   "id": "ee1fc1c1",
   "metadata": {},
   "source": [
    "### 02 - Data Understanding\n",
    "\n",
    "Loading the dataset to grasp what the data looks like."
   ]
  },
  {
   "cell_type": "markdown",
   "id": "84ad93bd",
   "metadata": {},
   "source": [
    "#### Library imports"
   ]
  },
  {
   "cell_type": "code",
   "execution_count": 2,
   "id": "1e49d77d",
   "metadata": {},
   "outputs": [],
   "source": [
    "# PySpark libraries\n",
    "import findspark\n",
    "findspark.init('/home/ubuntu/spark-3.2.1-bin-hadoop2.7')\n",
    "import pyspark\n",
    "from pyspark.sql import SparkSession\n",
    "spark = SparkSession.builder.appName('pdel145_iter4').getOrCreate()\n",
    "\n",
    "# Visualisation\n",
    "import matplotlib.pyplot as plt"
   ]
  },
  {
   "cell_type": "markdown",
   "id": "1f96e714",
   "metadata": {},
   "source": [
    "#### Loading the datasets"
   ]
  },
  {
   "cell_type": "code",
   "execution_count": 5,
   "id": "8f540721",
   "metadata": {},
   "outputs": [],
   "source": [
    "# Freshwater dataset\n",
    "freshwater_df = spark.read.csv('data/freshwater.csv', inferSchema=True, header=True)"
   ]
  },
  {
   "cell_type": "code",
   "execution_count": 6,
   "id": "89ac6ae9",
   "metadata": {},
   "outputs": [
    {
     "name": "stdout",
     "output_type": "stream",
     "text": [
      "root\n",
      " |-- SDG: integer (nullable = true)\n",
      " |-- SDG target: double (nullable = true)\n",
      " |-- SDG indicator: string (nullable = true)\n",
      " |-- Indicator Code: string (nullable = true)\n",
      " |-- Indicator name: string (nullable = true)\n",
      " |-- Geographical area code: string (nullable = true)\n",
      " |-- Geographical area name: string (nullable = true)\n",
      " |-- Year: integer (nullable = true)\n",
      " |-- Value: double (nullable = true)\n",
      " |-- Time detail: string (nullable = true)\n",
      " |-- Source: string (nullable = true)\n",
      " |-- Footnote: string (nullable = true)\n",
      " |-- Type of data: string (nullable = true)\n",
      " |-- Units: string (nullable = true)\n",
      " |-- Age group: string (nullable = true)\n",
      " |-- Bounds: string (nullable = true)\n",
      " |-- Frequency: string (nullable = true)\n",
      " |-- Level/Status: string (nullable = true)\n",
      " |-- Location: string (nullable = true)\n",
      " |-- Type of reporting: string (nullable = true)\n",
      " |-- Sex: string (nullable = true)\n",
      " |-- SDG 6 Data portal level: string (nullable = true)\n",
      "\n"
     ]
    }
   ],
   "source": [
    "# Checking for its datatypes\n",
    "freshwater_df.printSchema()"
   ]
  },
  {
   "cell_type": "code",
   "execution_count": 9,
   "id": "5ecdec7d",
   "metadata": {},
   "outputs": [
    {
     "name": "stdout",
     "output_type": "stream",
     "text": [
      "+---+----------+-------------+--------------+--------------------+----------------------+----------------------+----+-----+-----------+--------------------+--------+--------------------+----------+---------+------+---------+------------+--------------------+-----------------+----+-----------------------+\n",
      "|SDG|SDG target|SDG indicator|Indicator Code|      Indicator name|Geographical area code|Geographical area name|Year|Value|Time detail|              Source|Footnote|        Type of data|     Units|Age group|Bounds|Frequency|Level/Status|            Location|Type of reporting| Sex|SDG 6 Data portal level|\n",
      "+---+----------+-------------+--------------+--------------------+----------------------+----------------------+----+-----+-----------+--------------------+--------+--------------------+----------+---------+------+---------+------------+--------------------+-----------------+----+-----------------------+\n",
      "|  6|       6.4|        6.4.2| ER_H2O_STRESS|Level of water st...|               Country|          Turkmenistan|2012|  3.9|  2008-2012|Food and Agricult...|    null|Global monitoring...|      null|     null|  null|     null|        null|                null|             null|null|   6.4.2 Level of wa...|\n",
      "|  6|       6.4|        6.4.2| ER_H2O_STRESS|Level of water st...|               Country|                Uganda|2012|  3.0|  2008-2012|Food and Agricult...|    null|      Estimated data|Percentage|     null|  null|     null|        null|Services (ISIC4 G...|           Global|null|   6.4.2 Level of wa...|\n",
      "|  6|       6.4|        6.4.2| ER_H2O_STRESS|Level of water st...|               Country|                Uganda|2012|  3.0|  2008-2012|Food and Agricult...|    null|Global monitoring...|      null|     null|  null|     null|        null|                null|             null|null|   6.4.2 Level of wa...|\n",
      "|  6|       6.4|        6.4.2| ER_H2O_STRESS|Level of water st...|               Country|               Ukraine|2012| 3.71|  2008-2012|Food and Agricult...|    null|      Estimated data|Percentage|     null|  null|     null|        null|Services (ISIC4 G...|           Global|null|   6.4.2 Level of wa...|\n",
      "|  6|       6.4|        6.4.2| ER_H2O_STRESS|Level of water st...|               Country|               Ukraine|2012| 3.71|  2008-2012|Food and Agricult...|    null|Global monitoring...|      null|     null|  null|     null|        null|                null|             null|null|   6.4.2 Level of wa...|\n",
      "|  6|       6.4|        6.4.2| ER_H2O_STRESS|Level of water st...|               Country|       North Macedonia|2012| 2.07|  2008-2012|Food and Agricult...|    null|      Estimated data|Percentage|     null|  null|     null|        null|Services (ISIC4 G...|           Global|null|   6.4.2 Level of wa...|\n",
      "|  6|       6.4|        6.4.2| ER_H2O_STRESS|Level of water st...|               Country|       North Macedonia|2012| 2.07|  2008-2012|Food and Agricult...|    null|Global monitoring...|      null|     null|  null|     null|        null|                null|             null|null|   6.4.2 Level of wa...|\n",
      "|  6|       6.4|        6.4.2| ER_H2O_STRESS|Level of water st...|               Country|                 Egypt|2012|17.49|  2008-2012|Food and Agricult...|    null|      Estimated data|Percentage|     null|  null|     null|        null|Services (ISIC4 G...|           Global|null|   6.4.2 Level of wa...|\n",
      "|  6|       6.4|        6.4.2| ER_H2O_STRESS|Level of water st...|               Country|                 Egypt|2012|17.49|  2008-2012|Food and Agricult...|    null|Global monitoring...|      null|     null|  null|     null|        null|                null|             null|null|   6.4.2 Level of wa...|\n",
      "|  6|       6.4|        6.4.2| ER_H2O_STRESS|Level of water st...|               Country|  United Kingdom of...|2012| 9.96|  2008-2012|Food and Agricult...|    null|      Estimated data|Percentage|     null|  null|     null|        null|Services (ISIC4 G...|           Global|null|   6.4.2 Level of wa...|\n",
      "|  6|       6.4|        6.4.2| ER_H2O_STRESS|Level of water st...|               Country|  United Kingdom of...|2012|  9.7|  2008-2012|Food and Agricult...|    null|Global monitoring...|      null|     null|  null|     null|        null|                null|             null|null|   6.4.2 Level of wa...|\n",
      "|  6|       6.4|        6.4.2| ER_H2O_STRESS|Level of water st...|               Country|       Channel Islands|2012| null|  2008-2012|                null|    null|       Not Available|      null|     null|  null|     null|        null|                null|             null|null|   6.4.2 Level of wa...|\n",
      "|  6|       6.4|        6.4.2| ER_H2O_STRESS|Level of water st...|               Country|  United Republic o...|2012| 1.32|  2008-2012|Food and Agricult...|    null|      Estimated data|Percentage|     null|  null|     null|        null|Services (ISIC4 G...|           Global|null|   6.4.2 Level of wa...|\n",
      "|  6|       6.4|        6.4.2| ER_H2O_STRESS|Level of water st...|               Country|  United Republic o...|2012| 1.32|  2008-2012|Food and Agricult...|    null|Global monitoring...|      null|     null|  null|     null|        null|                null|             null|null|   6.4.2 Level of wa...|\n",
      "|  6|       6.4|        6.4.2| ER_H2O_STRESS|Level of water st...|               Country|  United States of ...|2012| 3.51|  2008-2012|Food and Agricult...|    null|      Estimated data|Percentage|     null|  null|     null|        null|Services (ISIC4 G...|           Global|null|   6.4.2 Level of wa...|\n",
      "|  6|       6.4|        6.4.2| ER_H2O_STRESS|Level of water st...|               Country|  United States of ...|2012| 3.51|  2008-2012|Food and Agricult...|    null|Global monitoring...|      null|     null|  null|     null|        null|                null|             null|null|   6.4.2 Level of wa...|\n",
      "|  6|       6.4|        6.4.2| ER_H2O_STRESS|Level of water st...|               Country|          Burkina Faso|2012| 3.59|  2008-2012|Food and Agricult...|    null|      Estimated data|Percentage|     null|  null|     null|        null|Services (ISIC4 G...|           Global|null|   6.4.2 Level of wa...|\n",
      "|  6|       6.4|        6.4.2| ER_H2O_STRESS|Level of water st...|               Country|          Burkina Faso|2012| 3.59|  2008-2012|Food and Agricult...|    null|Global monitoring...|      null|     null|  null|     null|        null|                null|             null|null|   6.4.2 Level of wa...|\n",
      "|  6|       6.4|        6.4.2| ER_H2O_STRESS|Level of water st...|               Country|               Uruguay|2012|  1.1|  2008-2012|Food and Agricult...|    null|      Estimated data|Percentage|     null|  null|     null|        null|Services (ISIC4 G...|           Global|null|   6.4.2 Level of wa...|\n",
      "|  6|       6.4|        6.4.2| ER_H2O_STRESS|Level of water st...|               Country|               Uruguay|2012|  1.1|  2008-2012|Food and Agricult...|    null|Global monitoring...|      null|     null|  null|     null|        null|                null|             null|null|   6.4.2 Level of wa...|\n",
      "+---+----------+-------------+--------------+--------------------+----------------------+----------------------+----+-----+-----------+--------------------+--------+--------------------+----------+---------+------+---------+------------+--------------------+-----------------+----+-----------------------+\n",
      "only showing top 20 rows\n",
      "\n"
     ]
    }
   ],
   "source": [
    "# Viewing what the dataset contains\n",
    "freshwater_df.show()"
   ]
  },
  {
   "cell_type": "code",
   "execution_count": 5,
   "id": "ebd7118e",
   "metadata": {},
   "outputs": [],
   "source": [
    "# Same goes for the rest of the datasets that are of file format .csv\n",
    "impr_sanit_df = spark.read.csv('data/improved_sanitation.csv', inferSchema=True, header=True)\n",
    "renewable_df = spark.read.csv('data/renewable.csv', inferSchema=True, header=True)\n",
    "tot_popul_df = spark.read.csv('data/total_population.csv', inferSchema=True, header=True)\n",
    "safe_manage_drink_df = spark.read.csv('data/safely_managed_drinking.csv', inferSchema=True, header=True)\n",
    "safe_manage_sanit_df = spark.read.csv('data/safely_managed_sanitation.csv', inferSchema=True, header=True)"
   ]
  },
  {
   "cell_type": "code",
   "execution_count": null,
   "id": "9a5b3f6e",
   "metadata": {},
   "outputs": [],
   "source": []
  }
 ],
 "metadata": {
  "kernelspec": {
   "display_name": "Python 3 (ipykernel)",
   "language": "python",
   "name": "python3"
  },
  "language_info": {
   "codemirror_mode": {
    "name": "ipython",
    "version": 3
   },
   "file_extension": ".py",
   "mimetype": "text/x-python",
   "name": "python",
   "nbconvert_exporter": "python",
   "pygments_lexer": "ipython3",
   "version": "3.10.12"
  }
 },
 "nbformat": 4,
 "nbformat_minor": 5
}
